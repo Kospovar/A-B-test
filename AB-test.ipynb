{
 "cells": [
  {
   "cell_type": "code",
   "execution_count": 44,
   "id": "a25ec0f0-f73f-45a1-a32d-a1dc811d3a91",
   "metadata": {},
   "outputs": [],
   "source": [
    "import pandas as pd\n",
    "import numpy as np\n",
    "import pandahouse as ph\n",
    "from read_db.CH import Getch\n",
    "import matplotlib.pyplot as plt\n",
    "import seaborn as sns\n",
    "import pylab \n",
    "from scipy import stats\n",
    "\n",
    "sns.set(font_scale=1.2, rc={'figure.figsize':(12,8)})"
   ]
  },
  {
   "cell_type": "code",
   "execution_count": 2,
   "id": "8f858dbc-dc3b-484b-b148-c9dfdfb53caf",
   "metadata": {},
   "outputs": [],
   "source": [
    "df = Getch(\"\"\"\n",
    "SELECT exp_group, \n",
    "    user_id,\n",
    "    sum(action = 'like') as likes,\n",
    "    sum(action = 'view') as views,\n",
    "    likes/views as ctr\n",
    "FROM simulator_20220520.feed_actions \n",
    "WHERE toDate(time) between '2022-04-24' and '2022-04-30'\n",
    "    and exp_group in (2,1)\n",
    "GROUP BY exp_group, user_id\n",
    "\"\"\").df"
   ]
  },
  {
   "cell_type": "markdown",
   "id": "aef68863-468e-4b0c-99e4-0db65e62e50a",
   "metadata": {},
   "source": [
    "В группе 2 был использован один из новых алгоритмов рекомендации постов, группа 1 использовалась в качестве контроля.  \n",
    "Основная гипотеза заключается в том, что новый алгоритм во 2-й группе приведет к увеличению CTR. "
   ]
  },
  {
   "cell_type": "markdown",
   "id": "6e10b7f1-c6fa-4951-9e3b-e46851af1cce",
   "metadata": {},
   "source": [
    "##### Методы  \n",
    "- t-тест \n",
    "- Пуассоновский бутстреп\n",
    "- тест Манна-Уитни \n",
    "- t-тест на сглаженном ctr (α=5)\n",
    "- t-тест и тест Манна-Уитни поверх бакетного преобразования"
   ]
  },
  {
   "cell_type": "markdown",
   "id": "5d7148aa-5ef2-4c64-aff4-3f1fbdebcf5c",
   "metadata": {
    "tags": []
   },
   "source": [
    "### t-test"
   ]
  },
  {
   "cell_type": "code",
   "execution_count": 6,
   "id": "743d49bc-aa49-4f1f-b574-f38ebd22d82d",
   "metadata": {},
   "outputs": [
    {
     "data": {
      "text/html": [
       "<div>\n",
       "<style scoped>\n",
       "    .dataframe tbody tr th:only-of-type {\n",
       "        vertical-align: middle;\n",
       "    }\n",
       "\n",
       "    .dataframe tbody tr th {\n",
       "        vertical-align: top;\n",
       "    }\n",
       "\n",
       "    .dataframe thead th {\n",
       "        text-align: right;\n",
       "    }\n",
       "</style>\n",
       "<table border=\"1\" class=\"dataframe\">\n",
       "  <thead>\n",
       "    <tr style=\"text-align: right;\">\n",
       "      <th></th>\n",
       "      <th>exp_group</th>\n",
       "      <th>user_id</th>\n",
       "      <th>likes</th>\n",
       "      <th>views</th>\n",
       "      <th>ctr</th>\n",
       "    </tr>\n",
       "  </thead>\n",
       "  <tbody>\n",
       "    <tr>\n",
       "      <th>0</th>\n",
       "      <td>1</td>\n",
       "      <td>109963</td>\n",
       "      <td>3</td>\n",
       "      <td>15</td>\n",
       "      <td>0.200000</td>\n",
       "    </tr>\n",
       "    <tr>\n",
       "      <th>1</th>\n",
       "      <td>1</td>\n",
       "      <td>26117</td>\n",
       "      <td>32</td>\n",
       "      <td>141</td>\n",
       "      <td>0.226950</td>\n",
       "    </tr>\n",
       "    <tr>\n",
       "      <th>2</th>\n",
       "      <td>1</td>\n",
       "      <td>138232</td>\n",
       "      <td>18</td>\n",
       "      <td>73</td>\n",
       "      <td>0.246575</td>\n",
       "    </tr>\n",
       "    <tr>\n",
       "      <th>3</th>\n",
       "      <td>1</td>\n",
       "      <td>26295</td>\n",
       "      <td>33</td>\n",
       "      <td>122</td>\n",
       "      <td>0.270492</td>\n",
       "    </tr>\n",
       "    <tr>\n",
       "      <th>4</th>\n",
       "      <td>1</td>\n",
       "      <td>18392</td>\n",
       "      <td>7</td>\n",
       "      <td>32</td>\n",
       "      <td>0.218750</td>\n",
       "    </tr>\n",
       "  </tbody>\n",
       "</table>\n",
       "</div>"
      ],
      "text/plain": [
       "   exp_group  user_id  likes  views       ctr\n",
       "0          1   109963      3     15  0.200000\n",
       "1          1    26117     32    141  0.226950\n",
       "2          1   138232     18     73  0.246575\n",
       "3          1    26295     33    122  0.270492\n",
       "4          1    18392      7     32  0.218750"
      ]
     },
     "execution_count": 6,
     "metadata": {},
     "output_type": "execute_result"
    }
   ],
   "source": [
    "df.head()"
   ]
  },
  {
   "cell_type": "code",
   "execution_count": 44,
   "id": "aa2806fa-d736-485d-ba2b-ff0b92045eb0",
   "metadata": {
    "tags": []
   },
   "outputs": [],
   "source": [
    "exp_group2 = df[df['exp_group'] == 2]['ctr']"
   ]
  },
  {
   "cell_type": "code",
   "execution_count": 45,
   "id": "cf826454-99dc-4ae9-918f-4808ad0e0fc6",
   "metadata": {},
   "outputs": [],
   "source": [
    "exp_group1 = df[df['exp_group'] == 1]['ctr']"
   ]
  },
  {
   "cell_type": "code",
   "execution_count": 46,
   "id": "250b6da4-2aca-48b4-bba2-4b4ecf7ed031",
   "metadata": {},
   "outputs": [
    {
     "data": {
      "text/plain": [
       "(0.21560459841296287, 0.21441927347479375)"
      ]
     },
     "execution_count": 46,
     "metadata": {},
     "output_type": "execute_result"
    }
   ],
   "source": [
    "exp_group1.mean(), exp_group2.mean()"
   ]
  },
  {
   "cell_type": "markdown",
   "id": "7253d302-8da3-41e1-94f4-b4ce760ac2e4",
   "metadata": {},
   "source": [
    "Средние по группам практически одинаковые"
   ]
  },
  {
   "cell_type": "code",
   "execution_count": 47,
   "id": "0e6f6f91-c1cc-4262-8d0e-347aa1e948e7",
   "metadata": {},
   "outputs": [
    {
     "data": {
      "text/plain": [
       "(0.203125, 0.1428571428571428)"
      ]
     },
     "execution_count": 47,
     "metadata": {},
     "output_type": "execute_result"
    }
   ],
   "source": [
    "exp_group1.median(), exp_group2.median()"
   ]
  },
  {
   "cell_type": "markdown",
   "id": "0429c1f4-a74d-4620-9a2c-01e4ca099ef5",
   "metadata": {},
   "source": [
    "Медиана тестовой группы сильно отклонилась от среднего"
   ]
  },
  {
   "cell_type": "code",
   "execution_count": 48,
   "id": "3e267bb4-e6f5-46d3-85af-50bbdf6a8af8",
   "metadata": {},
   "outputs": [
    {
     "data": {
      "text/plain": [
       "(0.007082824709479143, 0.02078786783139333)"
      ]
     },
     "execution_count": 48,
     "metadata": {},
     "output_type": "execute_result"
    }
   ],
   "source": [
    "exp_group1.var(), exp_group2.var()"
   ]
  },
  {
   "cell_type": "code",
   "execution_count": 6,
   "id": "cb15b9cc-e412-4b78-9464-88779605f614",
   "metadata": {},
   "outputs": [
    {
     "data": {
      "text/plain": [
       "(9952, 10079)"
      ]
     },
     "execution_count": 6,
     "metadata": {},
     "output_type": "execute_result"
    }
   ],
   "source": [
    "len(exp_group2), len(exp_group1)"
   ]
  },
  {
   "cell_type": "code",
   "execution_count": 38,
   "id": "aabe07cd-8e1b-449b-b0c7-3fab6367cba5",
   "metadata": {},
   "outputs": [
    {
     "data": {
      "image/png": "[encoded data removed]",
      "text/plain": [
       "<Figure size 864x576 with 1 Axes>"
      ]
     },
     "metadata": {},
     "output_type": "display_data"
    }
   ],
   "source": [
    "groups = sns.histplot(data = df, \n",
    "              x='ctr', \n",
    "              hue='exp_group', \n",
    "              palette = ['r', 'b'],\n",
    "              alpha=0.5,\n",
    "              kde=False)"
   ]
  },
  {
   "cell_type": "markdown",
   "id": "a764a002-0cf3-452b-80bf-5ad5cf916c98",
   "metadata": {},
   "source": [
    "По гистограмме видно, что распределения не похожи\n",
    "- распределение контрольной группы близко к нормальному с небольшой ассиметрией\n",
    "- расперделение тестовой группы двумодально, на глаз можно сказать, что наши пользователи поделились на два сегмента"
   ]
  },
  {
   "cell_type": "code",
   "execution_count": 8,
   "id": "c735b045-0d10-4019-86da-410a16da13e0",
   "metadata": {},
   "outputs": [
    {
     "data": {
      "text/plain": [
       "Ttest_indResult(statistic=-0.7094392041270485, pvalue=0.4780623130874935)"
      ]
     },
     "execution_count": 8,
     "metadata": {},
     "output_type": "execute_result"
    }
   ],
   "source": [
    "stats.ttest_ind(a=exp_group2, \n",
    "                b=exp_group1, \n",
    "                equal_var=False)"
   ]
  },
  {
   "cell_type": "markdown",
   "id": "099eaa37-c2da-4ba1-a272-c3992fea3546",
   "metadata": {},
   "source": [
    "t-test показывает, что группы одинаковые, но в данных присутствует сильная ассиметрия"
   ]
  },
  {
   "cell_type": "markdown",
   "id": "559a6e89-5ae6-4791-a126-d72dca97d193",
   "metadata": {
    "tags": []
   },
   "source": [
    "### u-test"
   ]
  },
  {
   "cell_type": "code",
   "execution_count": 11,
   "id": "0700d99e-6ccf-464a-9b48-70304dbae72d",
   "metadata": {},
   "outputs": [
    {
     "data": {
      "text/plain": [
       "MannwhitneyuResult(statistic=56601260.5, pvalue=6.0376484617779035e-56)"
      ]
     },
     "execution_count": 11,
     "metadata": {},
     "output_type": "execute_result"
    }
   ],
   "source": [
    "stats.mannwhitneyu(exp_group1, exp_group2, alternative='two-sided')"
   ]
  },
  {
   "cell_type": "markdown",
   "id": "20756f6e-95cb-4c36-9d42-dfe9e0b09375",
   "metadata": {},
   "source": [
    "Тест Манна - Уитни показывает, что группы разные"
   ]
  },
  {
   "cell_type": "markdown",
   "id": "5fd4fe4c-e571-41cb-9309-6b27e7e09da8",
   "metadata": {
    "tags": []
   },
   "source": [
    "### Сглаженные CTR"
   ]
  },
  {
   "cell_type": "markdown",
   "id": "0460bb99-e762-4916-bacc-a5023d3e3cf0",
   "metadata": {},
   "source": [
    "Некоторые пользователи имеют мало просмотров и неизвестно, какой их истинный CTR  \n",
    "Сглаживание увеличивает чувствительнось метрики"
   ]
  },
  {
   "cell_type": "code",
   "execution_count": 24,
   "id": "b885a9ea-c1b3-44ff-9415-f241b47490e8",
   "metadata": {},
   "outputs": [],
   "source": [
    "smothed_alpha = 5"
   ]
  },
  {
   "cell_type": "markdown",
   "id": "92d2de37-8bb8-4550-b4e4-3c262011138a",
   "metadata": {},
   "source": [
    "smothed_alpha - это гипперпараметр"
   ]
  },
  {
   "cell_type": "code",
   "execution_count": 20,
   "id": "3ea63f8c-c09d-4978-b309-5aa659fa9e3a",
   "metadata": {},
   "outputs": [],
   "source": [
    "df['global_ctr'] = df.groupby('exp_group')['likes'].transform(sum)/df.groupby('exp_group')['views'].transform(sum)"
   ]
  },
  {
   "cell_type": "code",
   "execution_count": 35,
   "id": "7eabee8d-f546-4a92-8ca4-60e765c87039",
   "metadata": {},
   "outputs": [],
   "source": [
    "df['smothed_ctr'] = (df['likes'] + smothed_alpha * df['global_ctr']) /(df['views'] + smothed_alpha)"
   ]
  },
  {
   "cell_type": "code",
   "execution_count": 36,
   "id": "ea905544-50cf-45b6-91a4-b1620d2c7047",
   "metadata": {},
   "outputs": [
    {
     "data": {
      "text/html": [
       "<div>\n",
       "<style scoped>\n",
       "    .dataframe tbody tr th:only-of-type {\n",
       "        vertical-align: middle;\n",
       "    }\n",
       "\n",
       "    .dataframe tbody tr th {\n",
       "        vertical-align: top;\n",
       "    }\n",
       "\n",
       "    .dataframe thead th {\n",
       "        text-align: right;\n",
       "    }\n",
       "</style>\n",
       "<table border=\"1\" class=\"dataframe\">\n",
       "  <thead>\n",
       "    <tr style=\"text-align: right;\">\n",
       "      <th></th>\n",
       "      <th>exp_group</th>\n",
       "      <th>user_id</th>\n",
       "      <th>likes</th>\n",
       "      <th>views</th>\n",
       "      <th>ctr</th>\n",
       "      <th>global_ctr</th>\n",
       "      <th>smothed_ctr</th>\n",
       "    </tr>\n",
       "  </thead>\n",
       "  <tbody>\n",
       "    <tr>\n",
       "      <th>0</th>\n",
       "      <td>1</td>\n",
       "      <td>109963</td>\n",
       "      <td>3</td>\n",
       "      <td>15</td>\n",
       "      <td>0.200000</td>\n",
       "      <td>0.208027</td>\n",
       "      <td>0.202007</td>\n",
       "    </tr>\n",
       "    <tr>\n",
       "      <th>1</th>\n",
       "      <td>1</td>\n",
       "      <td>26117</td>\n",
       "      <td>32</td>\n",
       "      <td>141</td>\n",
       "      <td>0.226950</td>\n",
       "      <td>0.208027</td>\n",
       "      <td>0.226302</td>\n",
       "    </tr>\n",
       "    <tr>\n",
       "      <th>2</th>\n",
       "      <td>1</td>\n",
       "      <td>138232</td>\n",
       "      <td>18</td>\n",
       "      <td>73</td>\n",
       "      <td>0.246575</td>\n",
       "      <td>0.208027</td>\n",
       "      <td>0.244104</td>\n",
       "    </tr>\n",
       "    <tr>\n",
       "      <th>3</th>\n",
       "      <td>1</td>\n",
       "      <td>26295</td>\n",
       "      <td>33</td>\n",
       "      <td>122</td>\n",
       "      <td>0.270492</td>\n",
       "      <td>0.208027</td>\n",
       "      <td>0.268033</td>\n",
       "    </tr>\n",
       "    <tr>\n",
       "      <th>4</th>\n",
       "      <td>1</td>\n",
       "      <td>18392</td>\n",
       "      <td>7</td>\n",
       "      <td>32</td>\n",
       "      <td>0.218750</td>\n",
       "      <td>0.208027</td>\n",
       "      <td>0.217301</td>\n",
       "    </tr>\n",
       "  </tbody>\n",
       "</table>\n",
       "</div>"
      ],
      "text/plain": [
       "   exp_group  user_id  likes  views       ctr  global_ctr  smothed_ctr\n",
       "0          1   109963      3     15  0.200000    0.208027     0.202007\n",
       "1          1    26117     32    141  0.226950    0.208027     0.226302\n",
       "2          1   138232     18     73  0.246575    0.208027     0.244104\n",
       "3          1    26295     33    122  0.270492    0.208027     0.268033\n",
       "4          1    18392      7     32  0.218750    0.208027     0.217301"
      ]
     },
     "execution_count": 36,
     "metadata": {},
     "output_type": "execute_result"
    }
   ],
   "source": [
    "df.head()"
   ]
  },
  {
   "cell_type": "code",
   "execution_count": 40,
   "id": "1b140454-c15f-49dd-b390-9fb644b6c0e7",
   "metadata": {},
   "outputs": [],
   "source": [
    "smothed_ctr_exp_group2 = df[df['exp_group'] == 2]['smothed_ctr']\n",
    "smothed_ctr_exp_group1 = df[df['exp_group'] == 1]['smothed_ctr']"
   ]
  },
  {
   "cell_type": "code",
   "execution_count": 55,
   "id": "2d850f19-c481-4125-9d45-b09471964de1",
   "metadata": {},
   "outputs": [
    {
     "data": {
      "text/plain": [
       "(0.21402549608884142, 0.21073955503259234)"
      ]
     },
     "execution_count": 55,
     "metadata": {},
     "output_type": "execute_result"
    }
   ],
   "source": [
    "smothed_ctr_exp_group1.mean(), smothed_ctr_exp_group2.mean()"
   ]
  },
  {
   "cell_type": "markdown",
   "id": "af346e48-2f70-4b41-8de8-c1c296d41e4d",
   "metadata": {},
   "source": [
    "Можно заметить, что после сглаживания разница в средних увеличилась"
   ]
  },
  {
   "cell_type": "code",
   "execution_count": 54,
   "id": "5cc1ce18-01db-4dea-9a7c-8413a4d7ba75",
   "metadata": {},
   "outputs": [
    {
     "data": {
      "text/plain": [
       "(0.20348020325371466, 0.14787872931642587)"
      ]
     },
     "execution_count": 54,
     "metadata": {},
     "output_type": "execute_result"
    }
   ],
   "source": [
    "smothed_ctr_exp_group1.median(), smothed_ctr_exp_group2.median()"
   ]
  },
  {
   "cell_type": "code",
   "execution_count": 50,
   "id": "a4463367-12cb-49a4-ba3c-7a88c28d833e",
   "metadata": {},
   "outputs": [
    {
     "data": {
      "text/plain": [
       "(0.0050934016819564045, 0.015566996076046192)"
      ]
     },
     "execution_count": 50,
     "metadata": {},
     "output_type": "execute_result"
    }
   ],
   "source": [
    "smothed_ctr_exp_group1.var(), smothed_ctr_exp_group2.var()"
   ]
  },
  {
   "cell_type": "markdown",
   "id": "a56e4d45-ffcf-4e45-a6c3-1fdd321cf11b",
   "metadata": {},
   "source": [
    "Дисперсия стала меньше"
   ]
  },
  {
   "cell_type": "code",
   "execution_count": 39,
   "id": "510adef8-857a-4af4-8228-c07f9197c928",
   "metadata": {},
   "outputs": [
    {
     "data": {
      "image/png": "[encoded data removed]",
      "text/plain": [
       "<Figure size 864x576 with 1 Axes>"
      ]
     },
     "metadata": {},
     "output_type": "display_data"
    }
   ],
   "source": [
    "groups = sns.histplot(data = df, \n",
    "              x='smothed_ctr', \n",
    "              hue='exp_group', \n",
    "              palette = ['r', 'b'],\n",
    "              alpha=0.5,\n",
    "              kde=False)"
   ]
  },
  {
   "cell_type": "code",
   "execution_count": 53,
   "id": "84c63f04-e744-4053-a1a7-fa3a52b5952b",
   "metadata": {},
   "outputs": [
    {
     "data": {
      "text/plain": [
       "Ttest_indResult(statistic=2.2841320431616983, pvalue=0.0223769815558559)"
      ]
     },
     "execution_count": 53,
     "metadata": {},
     "output_type": "execute_result"
    }
   ],
   "source": [
    "stats.ttest_ind(a=smothed_ctr_exp_group1, \n",
    "                b=smothed_ctr_exp_group2, \n",
    "                equal_var=False)"
   ]
  },
  {
   "cell_type": "markdown",
   "id": "d609aed4-16b6-45f9-af06-ee1bb80b00de",
   "metadata": {},
   "source": [
    "t-test на сглаженном ctr показал pvalue < 0.05  "
   ]
  },
  {
   "cell_type": "markdown",
   "id": "6705e27a-7a55-4552-be31-2f055dbd9d4c",
   "metadata": {
    "tags": []
   },
   "source": [
    "### Пуассоновский бутстреп"
   ]
  },
  {
   "cell_type": "markdown",
   "id": "412435b9-2ebf-4228-9763-5e538086bc50",
   "metadata": {},
   "source": [
    "Алгоритм \n",
    "- берем выборку из A  \n",
    "- генерируем сколько раз user попал в псевдовыборку (получаем его вес weight)\n",
    "- считаем по каждой псевдовыборке глобальный CTR   \n",
    "      global_CTR =  sum(ckliks * weight) / sum(view * weight) если не попал вес 0, если несколько раз это будет учтено\n",
    "- повторяем все то же самое, но уже для B\n",
    "- считаем разницу между global_CTR_A - global_CTR_B"
   ]
  },
  {
   "cell_type": "markdown",
   "id": "9710f2eb-a94e-4638-bdc0-2d1716d4ca66",
   "metadata": {},
   "source": [
    "Предположение в том, что выборки из групп являются хорошим приближением к ГС"
   ]
  },
  {
   "cell_type": "code",
   "execution_count": 4,
   "id": "4f69acf0-bbea-42cb-b92a-460122a0eabe",
   "metadata": {},
   "outputs": [],
   "source": [
    "likes_A = df[df.exp_group == 1]['likes'].to_numpy()\n",
    "likes_B = df[df.exp_group == 2]['likes'].to_numpy()\n",
    "views_A = df[df.exp_group == 1]['views'].to_numpy()\n",
    "views_B = df[df.exp_group == 2]['views'].to_numpy()"
   ]
  },
  {
   "cell_type": "code",
   "execution_count": 5,
   "id": "e5293fe6-b1d8-4db7-8cec-ddb258fbb96c",
   "metadata": {},
   "outputs": [],
   "source": [
    "def bootstrap(likes1, views1, likes2, views2, n_bootstrap=2000):\n",
    "    \n",
    "    poisson_bootstraps1 = stats.poisson(1).rvs((n_bootstrap, len(likes1) )).astype(np.int64)\n",
    "    poisson_bootstraps2 = stats.poisson(1).rvs((n_bootstrap, len(likes2) )).astype(np.int64)  \n",
    "    \n",
    "    global_CTR_A = (poisson_bootstraps1*likes1).sum(axis=1) / (poisson_bootstraps1*views1).sum(axis=1)\n",
    "    global_CTR_B = (poisson_bootstraps2*likes2).sum(axis=1) / (poisson_bootstraps2*views2).sum(axis=1)\n",
    "    \n",
    "    return global_CTR_A, global_CTR_B"
   ]
  },
  {
   "cell_type": "code",
   "execution_count": 7,
   "id": "6b2f004a-c339-4009-85ab-6d53d9633591",
   "metadata": {},
   "outputs": [],
   "source": [
    "global_CTR_A, global_CTR_B = bootstrap(likes_A, views_A, likes_B, views_B, n_bootstrap=2000)"
   ]
  },
  {
   "cell_type": "code",
   "execution_count": 14,
   "id": "ada3fe03-da37-43c7-8657-b434a0d4b9c8",
   "metadata": {},
   "outputs": [
    {
     "data": {
      "text/plain": [
       "<AxesSubplot:ylabel='Count'>"
      ]
     },
     "execution_count": 14,
     "metadata": {},
     "output_type": "execute_result"
    },
    {
     "data": {
      "image/png": "[encoded data removed]",
      "text/plain": [
       "<Figure size 864x576 with 1 Axes>"
      ]
     },
     "metadata": {},
     "output_type": "display_data"
    }
   ],
   "source": [
    "sns.histplot(global_CTR_A)\n",
    "sns.histplot(global_CTR_B, color = 'indianred')"
   ]
  },
  {
   "cell_type": "markdown",
   "id": "dba1228a-449a-443b-92f8-15b453fd0648",
   "metadata": {},
   "source": [
    "Распределения не пересекаются, если провести тест, то p-value будет 0"
   ]
  },
  {
   "cell_type": "code",
   "execution_count": 51,
   "id": "33ad6f9b-d99f-4a36-930d-ded979b2eadd",
   "metadata": {},
   "outputs": [
    {
     "data": {
      "text/plain": [
       "(0.20803452217521415, 0.19810996295237085)"
      ]
     },
     "execution_count": 51,
     "metadata": {},
     "output_type": "execute_result"
    }
   ],
   "source": [
    "global_CTR_A.mean(), global_CTR_B.mean()"
   ]
  },
  {
   "cell_type": "code",
   "execution_count": 57,
   "id": "77435793-121a-434a-8c0e-11d0da56bd2b",
   "metadata": {},
   "outputs": [
    {
     "data": {
      "text/plain": [
       "(0.20804166727848797, 0.19811464344288154)"
      ]
     },
     "execution_count": 57,
     "metadata": {},
     "output_type": "execute_result"
    }
   ],
   "source": [
    "np.median(global_CTR_A), np.median(global_CTR_B)"
   ]
  },
  {
   "cell_type": "code",
   "execution_count": 58,
   "id": "06661c46-d986-4085-a4b1-4d395a659ade",
   "metadata": {},
   "outputs": [
    {
     "data": {
      "text/plain": [
       "(5.352383661904627e-07, 2.1169631576691326e-06)"
      ]
     },
     "execution_count": 58,
     "metadata": {},
     "output_type": "execute_result"
    }
   ],
   "source": [
    "global_CTR_A.var(), global_CTR_B.var()"
   ]
  },
  {
   "cell_type": "code",
   "execution_count": 9,
   "id": "ca802252-8b63-4aed-9f03-06de87dcd94c",
   "metadata": {},
   "outputs": [
    {
     "data": {
      "text/plain": [
       "<AxesSubplot:ylabel='Count'>"
      ]
     },
     "execution_count": 9,
     "metadata": {},
     "output_type": "execute_result"
    },
    {
     "data": {
      "image/png": "[encoded data removed]",
      "text/plain": [
       "<Figure size 864x576 with 1 Axes>"
      ]
     },
     "metadata": {},
     "output_type": "display_data"
    }
   ],
   "source": [
    "sns.histplot(global_CTR_A - global_CTR_B)"
   ]
  },
  {
   "cell_type": "markdown",
   "id": "64ad8b65-57cd-4dda-9da9-181125fa3a70",
   "metadata": {},
   "source": [
    "Гистограмма не пересекат 0 - это говорит о том, что одна группа строго больше другой\n",
    "- справа от нуля, разница положительная и не нулевая\n",
    "- группа B показала лучший результат, чем A"
   ]
  },
  {
   "cell_type": "markdown",
   "id": "ab99a38b-cbf1-46ef-addf-207d13010cd1",
   "metadata": {
    "tags": []
   },
   "source": [
    "### Бакетное преобразование"
   ]
  },
  {
   "cell_type": "markdown",
   "id": "87645d7f-c3b3-44c9-a4e7-e08734f3f34f",
   "metadata": {},
   "source": [
    "Как считаются тесты поверх бакетного преобразования?  \n",
    "- берем пользователей и случайно делим их на n - корзинок (бакетов)\n",
    "- каждый пользователь в каждой группе попадет ровно в один бакет \n",
    "- пользователи по бакетам должны быть распределены +- равномерно"
   ]
  },
  {
   "cell_type": "markdown",
   "id": "60c321bb-89a3-4f61-816a-57d506862460",
   "metadata": {},
   "source": [
    "Каждый бакет - это 'метопользователь' и внутри него нам нужно агрегировать некий показатель, который будем сравнивать"
   ]
  },
  {
   "cell_type": "code",
   "execution_count": 63,
   "id": "bacc35ea-086c-4742-b493-71e5e568d889",
   "metadata": {},
   "outputs": [],
   "source": [
    "df = Getch(\"\"\" SELECT \n",
    "                    exp_group, \n",
    "                    bucket,\n",
    "                    sum(likes)/sum(views) as bucket_ctr\n",
    "                FROM\n",
    "                        (SELECT \n",
    "                            exp_group, \n",
    "                            xxHash64(user_id)%50 as bucket,\n",
    "                            user_id,\n",
    "                            sum(action = 'like') as likes,\n",
    "                            sum(action = 'view') as views,\n",
    "                            likes/views as ctr\n",
    "                        FROM simulator_20220520.feed_actions \n",
    "                        WHERE toDate(time) between '2022-04-24' and '2022-04-30' and exp_group in (2,1)\n",
    "                        GROUP BY exp_group, user_id)\n",
    "                GROUP BY exp_group, bucket\n",
    "            \"\"\").df"
   ]
  },
  {
   "cell_type": "code",
   "execution_count": 19,
   "id": "7833d763-b2dc-4703-96f5-14de163a8ae9",
   "metadata": {},
   "outputs": [
    {
     "data": {
      "text/html": [
       "<div>\n",
       "<style scoped>\n",
       "    .dataframe tbody tr th:only-of-type {\n",
       "        vertical-align: middle;\n",
       "    }\n",
       "\n",
       "    .dataframe tbody tr th {\n",
       "        vertical-align: top;\n",
       "    }\n",
       "\n",
       "    .dataframe thead th {\n",
       "        text-align: right;\n",
       "    }\n",
       "</style>\n",
       "<table border=\"1\" class=\"dataframe\">\n",
       "  <thead>\n",
       "    <tr style=\"text-align: right;\">\n",
       "      <th></th>\n",
       "      <th>exp_group</th>\n",
       "      <th>bucket</th>\n",
       "      <th>bucket_ctr</th>\n",
       "    </tr>\n",
       "  </thead>\n",
       "  <tbody>\n",
       "    <tr>\n",
       "      <th>0</th>\n",
       "      <td>1</td>\n",
       "      <td>0</td>\n",
       "      <td>0.196481</td>\n",
       "    </tr>\n",
       "    <tr>\n",
       "      <th>1</th>\n",
       "      <td>2</td>\n",
       "      <td>0</td>\n",
       "      <td>0.194262</td>\n",
       "    </tr>\n",
       "    <tr>\n",
       "      <th>2</th>\n",
       "      <td>1</td>\n",
       "      <td>1</td>\n",
       "      <td>0.211887</td>\n",
       "    </tr>\n",
       "    <tr>\n",
       "      <th>3</th>\n",
       "      <td>2</td>\n",
       "      <td>1</td>\n",
       "      <td>0.215328</td>\n",
       "    </tr>\n",
       "    <tr>\n",
       "      <th>4</th>\n",
       "      <td>1</td>\n",
       "      <td>2</td>\n",
       "      <td>0.206271</td>\n",
       "    </tr>\n",
       "  </tbody>\n",
       "</table>\n",
       "</div>"
      ],
      "text/plain": [
       "   exp_group  bucket  bucket_ctr\n",
       "0          1       0    0.196481\n",
       "1          2       0    0.194262\n",
       "2          1       1    0.211887\n",
       "3          2       1    0.215328\n",
       "4          1       2    0.206271"
      ]
     },
     "execution_count": 19,
     "metadata": {},
     "output_type": "execute_result"
    }
   ],
   "source": [
    "df.head()"
   ]
  },
  {
   "cell_type": "code",
   "execution_count": 20,
   "id": "2c738a7c-1b11-4616-ba7f-f7f61e30b17a",
   "metadata": {},
   "outputs": [],
   "source": [
    "exp_group_bucket1 = df[df['exp_group'] == 1].bucket_ctr\n",
    "exp_group_bucket2 = df[df['exp_group'] == 2].bucket_ctr"
   ]
  },
  {
   "cell_type": "code",
   "execution_count": 45,
   "id": "25815453-0d0b-49ec-a755-0b44edb9bdcd",
   "metadata": {},
   "outputs": [
    {
     "data": {
      "image/png": "[encoded data removed]",
      "text/plain": [
       "<Figure size 864x288 with 2 Axes>"
      ]
     },
     "metadata": {},
     "output_type": "display_data"
    }
   ],
   "source": [
    "plt.figure(figsize=(12,4))\n",
    "plt.subplot(1,2,1)\n",
    "stats.probplot(exp_group_bucket1, dist=\"norm\", plot=pylab)\n",
    "\n",
    "plt.subplot(1,2,2)\n",
    "stats.probplot(exp_group_bucket2, dist=\"norm\", plot=pylab)\n",
    "pylab.show()"
   ]
  },
  {
   "cell_type": "markdown",
   "id": "3bbb6201-4821-4b48-bd4b-c309770b79d6",
   "metadata": {},
   "source": [
    "Можно сказать, что после бакетного преобразования распределения напоминают нормальные"
   ]
  },
  {
   "cell_type": "code",
   "execution_count": 49,
   "id": "edd2a3b9-b65a-486e-8440-c7f6b8509a77",
   "metadata": {},
   "outputs": [
    {
     "data": {
      "text/plain": [
       "<AxesSubplot:xlabel='bucket_ctr', ylabel='Count'>"
      ]
     },
     "execution_count": 49,
     "metadata": {},
     "output_type": "execute_result"
    },
    {
     "data": {
      "image/png": "[encoded data removed]",
      "text/plain": [
       "<Figure size 864x576 with 1 Axes>"
      ]
     },
     "metadata": {},
     "output_type": "display_data"
    }
   ],
   "source": [
    " sns.histplot(data=df,\n",
    "              x='bucket_ctr',\n",
    "              hue='exp_group',\n",
    "              palette = ['r', 'b'],\n",
    "              alpha=0.5,\n",
    "              bins=50)"
   ]
  },
  {
   "cell_type": "code",
   "execution_count": 60,
   "id": "b1acade2-a42a-4750-b43d-c78cc636813c",
   "metadata": {},
   "outputs": [
    {
     "data": {
      "text/plain": [
       "(0.20812170724336013, 0.19825944666552928)"
      ]
     },
     "execution_count": 60,
     "metadata": {},
     "output_type": "execute_result"
    }
   ],
   "source": [
    "exp_group_bucket1.mean(), exp_group_bucket2.mean()"
   ]
  },
  {
   "cell_type": "markdown",
   "id": "e9df9fae-247a-40c8-96a8-d938ac90f057",
   "metadata": {},
   "source": [
    "Средние в группах стали сильнее отличаться, чем после сглаживания"
   ]
  },
  {
   "cell_type": "code",
   "execution_count": 61,
   "id": "4009a8d7-7fe4-4c2f-907c-6d17fc4ebe04",
   "metadata": {},
   "outputs": [
    {
     "data": {
      "text/plain": [
       "(0.20870422646847037, 0.19620940011426305)"
      ]
     },
     "execution_count": 61,
     "metadata": {},
     "output_type": "execute_result"
    }
   ],
   "source": [
    "exp_group_bucket1.median(), exp_group_bucket2.median()"
   ]
  },
  {
   "cell_type": "code",
   "execution_count": 62,
   "id": "996f2562-3239-47d6-994a-e02cbbda5c23",
   "metadata": {},
   "outputs": [
    {
     "data": {
      "text/plain": [
       "(2.291474230348919e-05, 0.0001284508960818103)"
      ]
     },
     "execution_count": 62,
     "metadata": {},
     "output_type": "execute_result"
    }
   ],
   "source": [
    "exp_group_bucket1.var(), exp_group_bucket2.var()"
   ]
  },
  {
   "cell_type": "markdown",
   "id": "51025696-8f56-4666-bc54-a0b1e829c4dd",
   "metadata": {},
   "source": [
    "Медианы практически не отличаются от среднего "
   ]
  },
  {
   "cell_type": "code",
   "execution_count": 37,
   "id": "7b3f149d-7937-4c89-920e-71e0cfde92d4",
   "metadata": {},
   "outputs": [
    {
     "data": {
      "text/plain": [
       "MannwhitneyuResult(statistic=1995.0, pvalue=2.859963936492646e-07)"
      ]
     },
     "execution_count": 37,
     "metadata": {},
     "output_type": "execute_result"
    }
   ],
   "source": [
    "stats.mannwhitneyu(exp_group_bucket1,\n",
    "                   exp_group_bucket2,\n",
    "                   alternative='two-sided')"
   ]
  },
  {
   "cell_type": "code",
   "execution_count": 36,
   "id": "344e3565-c817-489b-aaf2-266777482933",
   "metadata": {},
   "outputs": [
    {
     "data": {
      "text/plain": [
       "Ttest_indResult(statistic=5.668234732053979, pvalue=3.4455951649945907e-07)"
      ]
     },
     "execution_count": 36,
     "metadata": {},
     "output_type": "execute_result"
    }
   ],
   "source": [
    "stats.ttest_ind(exp_group_bucket1, \n",
    "                exp_group_bucket2, \n",
    "                equal_var=False)"
   ]
  },
  {
   "cell_type": "markdown",
   "id": "3121726a-ed81-46c8-81ef-00fed41b8c62",
   "metadata": {},
   "source": [
    "t-test показал меньший p-value, чем после сглаживания"
   ]
  },
  {
   "cell_type": "markdown",
   "id": "57620caa-e723-425f-b918-2524c7501763",
   "metadata": {},
   "source": [
    "#### Вывод\n",
    "\n",
    "**t-test**\n",
    " - \"Двугорбость\" считается опасной для t-теста, нет оснований ему доверять\n",
    " \n",
    "**u-test**\n",
    " - показал различия, также по распределению видно, что группы различаются\n",
    "\n",
    "**t-test на сглаженных пользовательских CTR**\n",
    " - нет теоретических гарантий\n",
    " - повышает чувствительность теста\n",
    " - хорошо работает, когда асимметрия высока\n",
    " - дал статистически значимый результат, но не такой надежный, как u-test\n",
    " - средние стали немного различасться, дисперсия стала ниже\n",
    " \n",
    "**Пуассоновский бутстреп**\n",
    " - позволил визуализировать различия\n",
    " - средние и медиана в группах стали одинаковыми, сильно понизили дисперсию\n",
    "\n",
    "**Бакетное преобразование**\n",
    " - показал примерно такой же результат, как и бутстреп\n",
    "\n",
    "По итогам тестов различия являются статистически значимыми, но не в пользу тестовой группы  \n",
    "\n",
    "Раскатывать новый алгоритм рекомендаций на всех пользователей не стоит  \n",
    " \n",
    "Возможно стоит доработать алгоритм, есть ощущение, что он хорошо работает на определенную аудиторию и совершенно не подходит другой"
   ]
  },
  {
   "cell_type": "code",
   "execution_count": null,
   "id": "16c8a738-4f58-40e2-8e2e-884e90162d70",
   "metadata": {},
   "outputs": [],
   "source": []
  }
 ],
 "metadata": {
  "kernelspec": {
   "display_name": "Python 3 (ipykernel)",
   "language": "python",
   "name": "python3"
  },
  "language_info": {
   "codemirror_mode": {
    "name": "ipython",
    "version": 3
   },
   "file_extension": ".py",
   "mimetype": "text/x-python",
   "name": "python",
   "nbconvert_exporter": "python",
   "pygments_lexer": "ipython3",
   "version": "3.8.10"
  }
 },
 "nbformat": 4,
 "nbformat_minor": 5
}
